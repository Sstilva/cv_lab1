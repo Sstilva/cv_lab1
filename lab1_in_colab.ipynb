{
 "cells": [
  {
   "cell_type": "markdown",
   "metadata": {
    "id": "egtA3jE3MhHF"
   },
   "source": [
    "Загружаем данные"
   ]
  },
  {
   "cell_type": "code",
   "execution_count": 1,
   "metadata": {
    "id": "XiBq5W2BMf4w",
    "ExecuteTime": {
     "end_time": "2023-09-24T15:56:06.070931Z",
     "start_time": "2023-09-24T15:56:04.289158Z"
    }
   },
   "outputs": [],
   "source": [
    "import requests\n",
    "\n",
    "with open('Lab1.zip', 'wb') as fh:\n",
    "  resp = requests.get('https://github.com/DimaKurd/cv_lab1/raw/master/lab1/Lab1.zip')\n",
    "  fh.write(resp.content)"
   ]
  },
  {
   "cell_type": "code",
   "execution_count": 2,
   "metadata": {
    "colab": {
     "base_uri": "https://localhost:8080/"
    },
    "id": "yDNItv7gyq5M",
    "outputId": "960371c7-984b-4e78-ed12-6c74b320e0fd",
    "ExecuteTime": {
     "end_time": "2023-09-24T15:56:12.459047Z",
     "start_time": "2023-09-24T15:56:12.250789Z"
    }
   },
   "outputs": [
    {
     "name": "stdout",
     "output_type": "stream",
     "text": [
      "Archive:  Lab1.zip\r\n",
      "   creating: ./images/\r\n",
      "  inflating: ./images/Abyssinian_122.jpg  \r\n",
      "  inflating: ./images/Abyssinian_19.jpg  \r\n",
      "  inflating: ./images/Abyssinian_210.jpg  \r\n",
      "  inflating: ./images/Abyssinian_24.jpg  \r\n",
      "  inflating: ./images/Abyssinian_31.jpg  \r\n",
      "  inflating: ./images/Abyssinian_44.jpg  \r\n",
      "  inflating: ./images/Abyssinian_66.jpg  \r\n",
      "  inflating: ./images/Abyssinian_9.jpg  \r\n",
      "  inflating: ./images/american_bulldog_140.jpg  \r\n",
      "  inflating: ./images/american_bulldog_199.jpg  \r\n",
      "  inflating: ./images/american_bulldog_95.jpg  \r\n",
      "  inflating: ./images/basset_hound_118.jpg  \r\n",
      "  inflating: ./images/basset_hound_14.jpg  \r\n",
      "  inflating: ./images/basset_hound_181.jpg  \r\n",
      "  inflating: ./images/beagle_1.jpg   \r\n",
      "  inflating: ./images/beagle_180.jpg  \r\n",
      "  inflating: ./images/Bengal_103.jpg  \r\n",
      "  inflating: ./images/Bengal_147.jpg  \r\n",
      "  inflating: ./images/Bengal_50.jpg  \r\n",
      "  inflating: ./images/Birman_31.jpg  \r\n",
      "  inflating: ./images/Birman_7.jpg   \r\n",
      "  inflating: ./images/Bombay_16.jpg  \r\n",
      "  inflating: ./images/Bombay_48.jpg  \r\n",
      "  inflating: ./images/boxer_108.jpg  \r\n",
      "  inflating: ./images/boxer_11.jpg   \r\n",
      "  inflating: ./images/boxer_17.jpg   \r\n",
      "  inflating: ./images/boxer_27.jpg   \r\n",
      "  inflating: ./images/British_Shorthair_109.jpg  \r\n",
      "  inflating: ./images/British_Shorthair_180.jpg  \r\n",
      "  inflating: ./images/British_Shorthair_186.jpg  \r\n",
      "  inflating: ./images/British_Shorthair_2.jpg  \r\n",
      "  inflating: ./images/British_Shorthair_40.jpg  \r\n",
      "  inflating: ./images/British_Shorthair_67.jpg  \r\n",
      "  inflating: ./images/British_Shorthair_70.jpg  \r\n",
      "  inflating: ./images/British_Shorthair_72.jpg  \r\n",
      "  inflating: ./images/British_Shorthair_93.jpg  \r\n",
      "  inflating: ./images/chihuahua_19.jpg  \r\n",
      "  inflating: ./images/chihuahua_38.jpg  \r\n",
      "  inflating: ./images/Egyptian_Mau_14.jpg  \r\n",
      "  inflating: ./images/Egyptian_Mau_155.jpg  \r\n",
      "  inflating: ./images/Egyptian_Mau_187.jpg  \r\n",
      "  inflating: ./images/Egyptian_Mau_95.jpg  \r\n",
      "  inflating: ./images/english_cocker_spaniel_10.jpg  \r\n",
      "  inflating: ./images/english_cocker_spaniel_144.jpg  \r\n",
      "  inflating: ./images/english_cocker_spaniel_68.jpg  \r\n",
      "  inflating: ./images/english_setter_42.jpg  \r\n",
      "  inflating: ./images/english_setter_96.jpg  \r\n",
      "  inflating: ./images/german_shorthaired_126.jpg  \r\n",
      "  inflating: ./images/german_shorthaired_66.jpg  \r\n",
      "  inflating: ./images/havanese_84.jpg  \r\n",
      "  inflating: ./images/keeshond_92.jpg  \r\n",
      "  inflating: ./images/leonberger_100.jpg  \r\n",
      "  inflating: ./images/leonberger_189.jpg  \r\n",
      "  inflating: ./images/leonberger_2.jpg  \r\n",
      "  inflating: ./images/leonberger_24.jpg  \r\n",
      "  inflating: ./images/Maine_Coon_264.jpg  \r\n",
      "  inflating: ./images/Maine_Coon_3.jpg  \r\n",
      "  inflating: ./images/Maine_Coon_43.jpg  \r\n",
      "  inflating: ./images/Maine_Coon_79.jpg  \r\n",
      "  inflating: ./images/Maine_Coon_89.jpg  \r\n",
      "  inflating: ./images/newfoundland_110.jpg  \r\n",
      "  inflating: ./images/Persian_152.jpg  \r\n",
      "  inflating: ./images/Persian_16.jpg  \r\n",
      "  inflating: ./images/Persian_221.jpg  \r\n",
      "  inflating: ./images/Persian_255.jpg  \r\n",
      "  inflating: ./images/Persian_4.jpg  \r\n",
      "  inflating: ./images/Persian_7.jpg  \r\n",
      "  inflating: ./images/pug_13.jpg     \r\n",
      "  inflating: ./images/pug_65.jpg     \r\n",
      "  inflating: ./images/pug_97.jpg     \r\n",
      "  inflating: ./images/Ragdoll_125.jpg  \r\n",
      "  inflating: ./images/Ragdoll_188.jpg  \r\n",
      "  inflating: ./images/Russian_Blue_171.jpg  \r\n",
      "  inflating: ./images/Russian_Blue_180.jpg  \r\n",
      "  inflating: ./images/Russian_Blue_199.jpg  \r\n",
      "  inflating: ./images/Russian_Blue_212.jpg  \r\n",
      "  inflating: ./images/Russian_Blue_24.jpg  \r\n",
      "  inflating: ./images/Russian_Blue_35.jpg  \r\n",
      "  inflating: ./images/Russian_Blue_8.jpg  \r\n",
      "  inflating: ./images/Russian_Blue_95.jpg  \r\n",
      "  inflating: ./images/saint_bernard_50.jpg  \r\n",
      "  inflating: ./images/shiba_inu_131.jpg  \r\n",
      "  inflating: ./images/shiba_inu_132.jpg  \r\n",
      "  inflating: ./images/shiba_inu_140.jpg  \r\n",
      "  inflating: ./images/shiba_inu_72.jpg  \r\n",
      "  inflating: ./images/Siamese_128.jpg  \r\n",
      "  inflating: ./images/Siamese_189.jpg  \r\n",
      "  inflating: ./images/Siamese_240.jpg  \r\n",
      "  inflating: ./images/Sphynx_139.jpg  \r\n",
      "  inflating: ./images/Sphynx_25.jpg  \r\n",
      "  inflating: ./images/Sphynx_33.jpg  \r\n",
      "  inflating: ./images/Sphynx_37.jpg  \r\n",
      "  inflating: ./images/Sphynx_72.jpg  \r\n",
      "  inflating: ./images/staffordshire_bull_terrier_41.jpg  \r\n",
      "  inflating: ./images/staffordshire_bull_terrier_67.jpg  \r\n",
      "  inflating: ./images/wheaten_terrier_1.jpg  \r\n",
      "  inflating: ./images/wheaten_terrier_53.jpg  \r\n",
      "  inflating: ./images/yorkshire_terrier_75.jpg  \r\n",
      "  inflating: ./images/yorkshire_terrier_82.jpg  \r\n",
      "  inflating: ./images/yorkshire_terrier_90.jpg  \r\n",
      "   creating: ./annotations/\r\n",
      " extracting: ./annotations/Abyssinian_122.png  \r\n",
      " extracting: ./annotations/Abyssinian_19.png  \r\n",
      " extracting: ./annotations/Abyssinian_210.png  \r\n",
      "  inflating: ./annotations/Abyssinian_24.png  \r\n",
      "  inflating: ./annotations/Abyssinian_31.png  \r\n",
      "  inflating: ./annotations/Abyssinian_44.png  \r\n",
      "  inflating: ./annotations/Abyssinian_66.png  \r\n",
      "  inflating: ./annotations/Abyssinian_9.png  \r\n",
      " extracting: ./annotations/american_bulldog_140.png  \r\n",
      " extracting: ./annotations/american_bulldog_199.png  \r\n",
      " extracting: ./annotations/american_bulldog_95.png  \r\n",
      "  inflating: ./annotations/basset_hound_118.png  \r\n",
      " extracting: ./annotations/basset_hound_14.png  \r\n",
      "  inflating: ./annotations/basset_hound_181.png  \r\n",
      "  inflating: ./annotations/beagle_1.png  \r\n",
      "  inflating: ./annotations/beagle_180.png  \r\n",
      "  inflating: ./annotations/Bengal_103.png  \r\n",
      "  inflating: ./annotations/Bengal_147.png  \r\n",
      "  inflating: ./annotations/Bengal_50.png  \r\n",
      "  inflating: ./annotations/Birman_31.png  \r\n",
      "  inflating: ./annotations/Birman_7.png  \r\n",
      "  inflating: ./annotations/Bombay_16.png  \r\n",
      "  inflating: ./annotations/Bombay_48.png  \r\n",
      "  inflating: ./annotations/boxer_108.png  \r\n",
      "  inflating: ./annotations/boxer_11.png  \r\n",
      "  inflating: ./annotations/boxer_17.png  \r\n",
      "  inflating: ./annotations/boxer_27.png  \r\n",
      "  inflating: ./annotations/British_Shorthair_109.png  \r\n",
      "  inflating: ./annotations/British_Shorthair_180.png  \r\n",
      "  inflating: ./annotations/British_Shorthair_186.png  \r\n",
      " extracting: ./annotations/British_Shorthair_2.png  \r\n",
      "  inflating: ./annotations/British_Shorthair_40.png  \r\n",
      "  inflating: ./annotations/British_Shorthair_67.png  \r\n",
      "  inflating: ./annotations/British_Shorthair_70.png  \r\n",
      "  inflating: ./annotations/British_Shorthair_72.png  \r\n",
      "  inflating: ./annotations/British_Shorthair_93.png  \r\n",
      "  inflating: ./annotations/chihuahua_19.png  \r\n",
      "  inflating: ./annotations/chihuahua_38.png  \r\n",
      "  inflating: ./annotations/Egyptian_Mau_14.png  \r\n",
      "  inflating: ./annotations/Egyptian_Mau_155.png  \r\n",
      "  inflating: ./annotations/Egyptian_Mau_187.png  \r\n",
      "  inflating: ./annotations/Egyptian_Mau_95.png  \r\n",
      "  inflating: ./annotations/english_cocker_spaniel_10.png  \r\n",
      "  inflating: ./annotations/english_cocker_spaniel_144.png  \r\n",
      "  inflating: ./annotations/english_cocker_spaniel_68.png  \r\n",
      "  inflating: ./annotations/english_setter_42.png  \r\n",
      "  inflating: ./annotations/english_setter_96.png  \r\n",
      "  inflating: ./annotations/german_shorthaired_126.png  \r\n",
      "  inflating: ./annotations/german_shorthaired_66.png  \r\n",
      "  inflating: ./annotations/havanese_84.png  \r\n",
      " extracting: ./annotations/keeshond_92.png  \r\n",
      "  inflating: ./annotations/leonberger_100.png  \r\n",
      "  inflating: ./annotations/leonberger_189.png  \r\n",
      " extracting: ./annotations/leonberger_2.png  \r\n",
      "  inflating: ./annotations/leonberger_24.png  \r\n",
      "  inflating: ./annotations/Maine_Coon_264.png  \r\n",
      " extracting: ./annotations/Maine_Coon_3.png  \r\n",
      "  inflating: ./annotations/Maine_Coon_43.png  \r\n",
      " extracting: ./annotations/Maine_Coon_79.png  \r\n",
      "  inflating: ./annotations/Maine_Coon_89.png  \r\n",
      " extracting: ./annotations/newfoundland_110.png  \r\n",
      "  inflating: ./annotations/Persian_152.png  \r\n",
      "  inflating: ./annotations/Persian_16.png  \r\n",
      " extracting: ./annotations/Persian_221.png  \r\n",
      " extracting: ./annotations/Persian_255.png  \r\n",
      "  inflating: ./annotations/Persian_4.png  \r\n",
      "  inflating: ./annotations/Persian_7.png  \r\n",
      "  inflating: ./annotations/pug_13.png  \r\n",
      "  inflating: ./annotations/pug_65.png  \r\n",
      "  inflating: ./annotations/pug_97.png  \r\n",
      "  inflating: ./annotations/Ragdoll_125.png  \r\n",
      "  inflating: ./annotations/Ragdoll_188.png  \r\n",
      "  inflating: ./annotations/Russian_Blue_171.png  \r\n",
      "  inflating: ./annotations/Russian_Blue_180.png  \r\n",
      "  inflating: ./annotations/Russian_Blue_199.png  \r\n",
      "  inflating: ./annotations/Russian_Blue_212.png  \r\n",
      "  inflating: ./annotations/Russian_Blue_24.png  \r\n",
      "  inflating: ./annotations/Russian_Blue_35.png  \r\n",
      " extracting: ./annotations/Russian_Blue_8.png  \r\n",
      "  inflating: ./annotations/Russian_Blue_95.png  \r\n",
      "  inflating: ./annotations/saint_bernard_50.png  \r\n",
      "  inflating: ./annotations/shiba_inu_131.png  \r\n",
      "  inflating: ./annotations/shiba_inu_132.png  \r\n",
      "  inflating: ./annotations/shiba_inu_140.png  \r\n",
      "  inflating: ./annotations/shiba_inu_72.png  \r\n",
      "  inflating: ./annotations/Siamese_128.png  \r\n",
      "  inflating: ./annotations/Siamese_189.png  \r\n",
      "  inflating: ./annotations/Siamese_240.png  \r\n",
      "  inflating: ./annotations/Sphynx_139.png  \r\n",
      "  inflating: ./annotations/Sphynx_25.png  \r\n",
      "  inflating: ./annotations/Sphynx_33.png  \r\n",
      "  inflating: ./annotations/Sphynx_37.png  \r\n",
      "  inflating: ./annotations/Sphynx_72.png  \r\n",
      "  inflating: ./annotations/staffordshire_bull_terrier_41.png  \r\n",
      "  inflating: ./annotations/staffordshire_bull_terrier_67.png  \r\n",
      "  inflating: ./annotations/wheaten_terrier_1.png  \r\n",
      "  inflating: ./annotations/wheaten_terrier_53.png  \r\n",
      " extracting: ./annotations/yorkshire_terrier_75.png  \r\n",
      " extracting: ./annotations/yorkshire_terrier_82.png  \r\n",
      "  inflating: ./annotations/yorkshire_terrier_90.png  \r\n"
     ]
    }
   ],
   "source": [
    "! unzip Lab1.zip -d ."
   ]
  },
  {
   "cell_type": "markdown",
   "metadata": {
    "id": "j1mvOzd8DiHq"
   },
   "source": [
    "# Functions"
   ]
  },
  {
   "cell_type": "code",
   "execution_count": 20,
   "metadata": {
    "ExecuteTime": {
     "end_time": "2023-09-24T16:35:07.475836Z",
     "start_time": "2023-09-24T16:35:07.445542Z"
    }
   },
   "outputs": [],
   "source": [
    "import os\n",
    "import time\n",
    "\n",
    "import numpy as np\n",
    "import pandas as pd\n",
    "import cv2\n",
    "\n",
    "from scipy import signal\n",
    "from tqdm import tqdm\n",
    "from typing import List\n",
    "\n",
    "import warnings\n",
    "warnings.filterwarnings(\"ignore\")"
   ]
  },
  {
   "cell_type": "markdown",
   "metadata": {
    "id": "-fuaGUHZRVuB"
   },
   "source": [
    "Метод для обработки изображения"
   ]
  },
  {
   "cell_type": "code",
   "execution_count": 21,
   "metadata": {
    "id": "0UhPcFfuY1NE",
    "ExecuteTime": {
     "end_time": "2023-09-24T16:35:08.683709Z",
     "start_time": "2023-09-24T16:35:08.670077Z"
    }
   },
   "outputs": [],
   "source": [
    "class CannyEdgeDetector (object):\n",
    "    def get_img_edges(self, img, threshold):\n",
    "        grad_magnitute, grad_degree = self.get_mag_degree(img)\n",
    "        supressed = self.non_max_supression(grad_magnitute, grad_degree)\n",
    "        thresholded = self.threshold(supressed, threshold)\n",
    "        output = self.edge_tracking(thresholded)\n",
    "        \n",
    "        return output\n",
    "\n",
    "    @staticmethod\n",
    "    def non_max_supression(mag, gdegree):\n",
    "        height, width = mag.shape\n",
    "        suppresed = np.zeros_like(mag)\n",
    "\n",
    "        for x in range(1, width-1):\n",
    "            for y in range(1, height-1):\n",
    "\n",
    "                # Проверяем соседние пиксели в зависимости от направления градиента\n",
    "                # 8 соседей - значит шаг по углу pi/8 = 180 / 8\n",
    "                if (180* 1/8 <= gdegree[y][x] <= 180* 3/8) or (180* 9/8 < gdegree[y][x] <= 180* 11/8):\n",
    "                    first_neibour = mag[y-1][x+1]\n",
    "                    second_neibour = mag[y+1][x-1]\n",
    "\n",
    "                elif (180* 3/8 < gdegree[y][x] <= 180* 5/8) or (180* 11/8 < gdegree[y][x] <= 180* 13/8):\n",
    "                    first_neibour = mag[y-1][x]\n",
    "                    second_neibour = mag[y+1][x]\n",
    "\n",
    "                elif (180* 5/8 < gdegree[y][x] <= 180* 7/8) or (180* 13/8 < gdegree[y][x] <= 180* 15/8):\n",
    "                    first_neibour = mag[y-1][x-1]\n",
    "                    second_neibour = mag[y+1][x+1]\n",
    "\n",
    "                else:\n",
    "                    first_neibour = mag[y-1][x-1]\n",
    "                    second_neibour = mag[y+1][x+1]\n",
    "\n",
    "                if mag[y][x] > first_neibour and mag[y][x] > second_neibour:\n",
    "                    suppresed[y][x] = mag[y][x]\n",
    "\n",
    "        return suppresed\n",
    "\n",
    "    @staticmethod\n",
    "    def threshold(img, threshold):\n",
    "        img[np.where((img >= threshold))] = 255\n",
    "        img[np.where(img < threshold)] = 0\n",
    "\n",
    "        return img\n",
    "\n",
    "    @staticmethod\n",
    "    def edge_tracking(img, weak=125):\n",
    "\n",
    "        height, width = img.shape\n",
    "        # используем blob-analysis\n",
    "\n",
    "        for i in range(0, height):\n",
    "            for j in range(0, width):\n",
    "                if img[i][j] == weak:\n",
    "                    if ((img[i + 1][j] == 255) or \n",
    "                        (img[i - 1][j] == 255) or \n",
    "                        (img[i][j + 1] == 255) or \n",
    "                        (img[i][j - 1] == 255) or \n",
    "                        (img[i + 1][j + 1] == 255) or \n",
    "                        (img[i - 1][j - 1] == 255)):\n",
    "                        img[i][j] = 255\n",
    "                    else:\n",
    "                        img[i][j] = 0\n",
    "\n",
    "        return img\n",
    "\n",
    "    @staticmethod\n",
    "    def get_mag_degree(img):\n",
    "        Lx = np.array([[1, 0, -1],\n",
    "                    [2, 0, -2],\n",
    "                    [1, 0, -1]])\n",
    "        Ly = np.array([[1, 2, 1],\n",
    "                    [0, 0, 0],\n",
    "                    [-1, -2, -1]])\n",
    "        G = np.array([[2, 4, 5, 4, 2],\n",
    "                    [4, 9, 12, 9, 4],\n",
    "                    [5, 12, 15, 12, 5],\n",
    "                    [4, 9, 12, 9, 4],\n",
    "                    [2, 4, 5, 4, 2]])\n",
    "        G = G / 159\n",
    "        img_blured = signal.convolve2d(img, G, mode='same')\n",
    "        magx = signal.convolve2d(img_blured, Lx, mode='same')\n",
    "        magy = signal.convolve2d(img_blured, Ly, mode='same')\n",
    "\n",
    "        mag = np.sqrt(magx**2 + magy**2)\n",
    "        degree = np.rad2deg(np.arctan2(magy, magx))\n",
    "\n",
    "        return mag, degree\n",
    "\n"
   ]
  },
  {
   "cell_type": "code",
   "execution_count": 22,
   "metadata": {
    "id": "i8Sfxc7GyORa",
    "ExecuteTime": {
     "end_time": "2023-09-24T16:35:09.755706Z",
     "start_time": "2023-09-24T16:35:09.702672Z"
    }
   },
   "outputs": [],
   "source": [
    "canny = CannyEdgeDetector()\n",
    "def get_foreground_mask(image_path: str) -> List[tuple]:\n",
    "    \"\"\"\n",
    "    Метод для вычисления маски переднего плана на фото\n",
    "    :param image_path - путь до фото\n",
    "    :return массив в формате [(x_1, y_1), (x_2, y_2), (x_3, y_3)], в котором перечислены все точки, относящиеся к маске\n",
    "    \"\"\"\n",
    "\n",
    "    img = cv2.imread(image_path)\n",
    "    img = cv2.cvtColor(img, cv2.COLOR_BGR2GRAY)\n",
    "    ###\n",
    "    t1 = time.time()\n",
    "    ###\n",
    "    threshold = 25\n",
    "    img_edges = canny.get_img_edges(img, threshold)\n",
    "\n",
    "    img = np.where(img_edges > 1,1,0).astype('uint8')\n",
    "    pred_points = np.argwhere(img)\n",
    "    pred_points[:, [1, 0]] = pred_points[:, [0, 1]]\n",
    "    cv2.fillPoly(img, [pred_points], 1)\n",
    "    ###\n",
    "    t2 = time.time()\n",
    "    ###\n",
    "    pred_points = np.argwhere(img)\n",
    "\n",
    "    return pred_points, (t2-t1) / (img.shape[0] * img.shape[1]) #* 1e6"
   ]
  },
  {
   "cell_type": "markdown",
   "metadata": {
    "id": "McKR_IlPTJK_"
   },
   "source": [
    "Расчёт метрики"
   ]
  },
  {
   "cell_type": "code",
   "execution_count": 23,
   "metadata": {
    "id": "7w7sGjg5QhCD",
    "ExecuteTime": {
     "end_time": "2023-09-24T16:35:11.377515Z",
     "start_time": "2023-09-24T16:35:11.371151Z"
    }
   },
   "outputs": [],
   "source": [
    "def evaluate_iou(image_dir: str, anno_dir: str) -> float:\n",
    "    \"\"\"\n",
    "    Метод для расчёта mean IoU на датасете\n",
    "    :param image_dir - каталог с фото для анализа\n",
    "    :param anno_dir - каталог с аннотациями для расчета метрики\n",
    "    :return значение mean IoU с сохранением оценки по каждому фото в csv-файл\n",
    "    \"\"\"\n",
    "\n",
    "    iou_data = dict()\n",
    "    for _, _, files in os.walk(image_dir):\n",
    "        assert files is not None, 'no files read'\n",
    "        for image_name in tqdm(files):\n",
    "            # print(f'Processing file {image_name}')\n",
    "            sample_name = image_name[:image_name.find('.jpg')]\n",
    "\n",
    "            # acquiring ground truth mask data\n",
    "            mask_true = cv2.imread(os.path.join(anno_dir, f'{sample_name}.png'))\n",
    "            assert mask_true is not None, 'mask is None'\n",
    "            true_points = cv2.cvtColor(mask_true, cv2.COLOR_BGR2GRAY)\n",
    "            true_points[true_points != 2] = 1\n",
    "            true_points[true_points == 2] = 0\n",
    "            true_points = np.argwhere(true_points)\n",
    "            true_points_set = set([tuple(x) for x in true_points])\n",
    "\n",
    "            # acquiring predicted mask\n",
    "            pred_points, it_time = get_foreground_mask(image_path=os.path.join(image_dir, image_name))\n",
    "            assert pred_points is not None, 'pred_points is None'\n",
    "            pred_points_set = set([tuple(x) for x in pred_points])\n",
    "\n",
    "            # calculating IoU\n",
    "            iou = len(true_points_set.intersection(pred_points_set)) / len(true_points_set.union(pred_points_set))\n",
    "\n",
    "            image_names = iou_data.get('image_names', [])\n",
    "            image_names.append(sample_name)\n",
    "            iou_data['image_names'] = image_names\n",
    "\n",
    "            iou_values = iou_data.get('iou_values', [])\n",
    "            iou_values.append(iou)\n",
    "            iou_data['iou_values'] = iou_values\n",
    "            iou_data['iter_time'] = it_time\n",
    "\n",
    "        pd.DataFrame(data=iou_data).to_csv('detailed_results.csv')\n",
    "        return np.mean(iou_data['iou_values']), np.mean(iou_data['iter_time'])"
   ]
  },
  {
   "cell_type": "markdown",
   "metadata": {
    "id": "SpyvyNS3TgP_"
   },
   "source": [
    "Вызов расчёта метрики"
   ]
  },
  {
   "cell_type": "code",
   "execution_count": 24,
   "metadata": {
    "colab": {
     "base_uri": "https://localhost:8080/"
    },
    "id": "Q6oVXw9NQlpv",
    "outputId": "17c54e59-0cc9-4b0e-8949-c5169f1bb729",
    "ExecuteTime": {
     "end_time": "2023-09-24T16:35:54.733232Z",
     "start_time": "2023-09-24T16:35:13.294903Z"
    }
   },
   "outputs": [
    {
     "name": "stderr",
     "output_type": "stream",
     "text": [
      "100%|██████████| 100/100 [00:41<00:00,  2.41it/s]"
     ]
    },
    {
     "name": "stdout",
     "output_type": "stream",
     "text": [
      "Metric_value (0.751127928086716, 1.2488378681474637e-06)\n"
     ]
    },
    {
     "name": "stderr",
     "output_type": "stream",
     "text": [
      "\n"
     ]
    }
   ],
   "source": [
    "print(f\"Metric_value {evaluate_iou(image_dir='./images', anno_dir='./annotations')}\")"
   ]
  },
  {
   "cell_type": "code",
   "execution_count": null,
   "outputs": [],
   "source": [],
   "metadata": {
    "collapsed": false
   }
  }
 ],
 "metadata": {
  "colab": {
   "provenance": []
  },
  "kernelspec": {
   "name": "python3",
   "language": "python",
   "display_name": "Python 3 (ipykernel)"
  },
  "language_info": {
   "codemirror_mode": {
    "name": "ipython",
    "version": 3
   },
   "file_extension": ".py",
   "mimetype": "text/x-python",
   "name": "python",
   "nbconvert_exporter": "python",
   "pygments_lexer": "ipython3",
   "version": "3.11.5"
  }
 },
 "nbformat": 4,
 "nbformat_minor": 0
}
